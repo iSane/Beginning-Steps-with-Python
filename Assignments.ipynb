{
 "cells": [
  {
   "cell_type": "code",
   "execution_count": null,
   "metadata": {
    "collapsed": true
   },
   "outputs": [],
   "source": [
    "a = input(\"Enter no of iterations\")\n",
    "#mulitiply 2 by 2 till a\n",
    "for i in range(1,a+1):\n",
    "    print i*2"
   ]
  },
  {
   "cell_type": "code",
   "execution_count": null,
   "metadata": {
    "collapsed": true
   },
   "outputs": [],
   "source": [
    "a = 100\n",
    "#check number and divide by 2\n",
    "#if remainder is 1 print \n",
    "for i in range(1,a):\n",
    "    if i%2 == 1:\n",
    "        print i"
   ]
  },
  {
   "cell_type": "code",
   "execution_count": null,
   "metadata": {
    "collapsed": true
   },
   "outputs": [],
   "source": [
    "#check number and divide by 2,3,5,7\n",
    "#if remainder is 0 print \n",
    "for i in range(1,100):\n",
    "    if i%2 == 0:\n",
    "        continue\n",
    "    elif i%3 == 0:\n",
    "        continue\n",
    "    elif i%5 == 0:\n",
    "        continue\n",
    "    elif i%7 == 0:\n",
    "        continue\n",
    "    print i"
   ]
  },
  {
   "cell_type": "code",
   "execution_count": null,
   "metadata": {
    "collapsed": true
   },
   "outputs": [],
   "source": [
    "#factorial from 1 to 10\n",
    "#take a number\n",
    "#reduce number and multiply till it comes to 1\n",
    "#end\n",
    "i = 4\n",
    "if i == 0 or i == 1:\n",
    "    print 1\n",
    "for i in range(0,a):\n",
    "    if i == a:\n",
    "        i = i*(i - 1)\n",
    "        continue\n",
    "    print i\n",
    "    if i == 1:\n",
    "        break\n",
    "    print i\n",
    "print i"
   ]
  },
  {
   "cell_type": "code",
   "execution_count": null,
   "metadata": {
    "collapsed": true
   },
   "outputs": [],
   "source": [
    "print(\"Input number between 1-10\")\n",
    "i = input()\n",
    "fact = 1\n",
    "if i < 0:\n",
    "    print(\"sorry\")\n",
    "elif i == 0:\n",
    "    print(\"fact is 1\")\n",
    "else:\n",
    "    for i in range(1,i+1):\n",
    "        fact= fact*i\n",
    "print fact"
   ]
  },
  {
   "cell_type": "code",
   "execution_count": null,
   "metadata": {
    "collapsed": true
   },
   "outputs": [],
   "source": [
    "print(\"Prime numbers between 1-100\")\n",
    "if i < 0:\n",
    "    print(\"sorry\")\n",
    "elif i == 0:\n",
    "    print(\"fact is 1\")\n",
    "else:\n",
    "    for i in range(1,i+1):\n",
    "        fact= fact*i\n",
    "print fact"
   ]
  },
  {
   "cell_type": "code",
   "execution_count": null,
   "metadata": {
    "collapsed": true
   },
   "outputs": [],
   "source": [
    "r=int(input(\"Enter upper limit: \"))\n",
    "for a in range(2,r+1):\n",
    "    k=0\n",
    "    for i in range(2,a//2):\n",
    "        if(a%i==0):\n",
    "            k=k+1\n",
    "    if(k<=0):\n",
    "        print(a)"
   ]
  },
  {
   "cell_type": "markdown",
   "metadata": {
    "collapsed": true
   },
   "source": [
    "### Given an input number, print all possible squares <= given number\n"
   ]
  },
  {
   "cell_type": "code",
   "execution_count": null,
   "metadata": {
    "collapsed": true
   },
   "outputs": [],
   "source": [
    "s= input()\n",
    "for i in range(1,s):\n",
    "    if i*i < s:\n",
    "        print i*i\n",
    "    else:\n",
    "        break"
   ]
  },
  {
   "cell_type": "markdown",
   "metadata": {},
   "source": [
    "### Given a number, print Fibonacci"
   ]
  },
  {
   "cell_type": "code",
   "execution_count": null,
   "metadata": {
    "collapsed": true,
    "scrolled": true
   },
   "outputs": [],
   "source": [
    "#i=0\n",
    "j=1\n",
    "k=0\n",
    "f=input()\n",
    "#print i\n",
    "#print j\n",
    "def fib(i,j):\n",
    "    k = i+j\n",
    "    i = i + 1\n",
    "    j = j + 1\n",
    "for i in range(0,f):\n",
    "#    k = i+j\n",
    "    if k < f:\n",
    "        print fib(i,j)\n",
    "    else:\n",
    "        break\n",
    "#    i=i+1\n",
    "#    j=j+1\n",
    "#    print k"
   ]
  },
  {
   "cell_type": "code",
   "execution_count": null,
   "metadata": {
    "collapsed": true
   },
   "outputs": [],
   "source": [
    "f=input()\n",
    "i = 0\n",
    "j = 1\n",
    "#k = i + j\n",
    "while (i < f):\n",
    "    print i\n",
    "    i = i + 1\n",
    "while (j < f):\n",
    "    print j\n",
    "    j = j + 1"
   ]
  },
  {
   "cell_type": "code",
   "execution_count": null,
   "metadata": {
    "collapsed": true
   },
   "outputs": [],
   "source": [
    "f= input()\n",
    "x = 0\n",
    "y = 1\n",
    "z = 0\n",
    "print x\n",
    "print y\n",
    "while (z < f):\n",
    "    print z\n",
    "    z = x + y\n",
    "#   if (z < f) :\n",
    "    x = y\n",
    "    y = z\n",
    "    "
   ]
  },
  {
   "cell_type": "code",
   "execution_count": null,
   "metadata": {
    "collapsed": true
   },
   "outputs": [],
   "source": [
    "0 1 1 2 3 5 8 13 21 34 55"
   ]
  },
  {
   "cell_type": "code",
   "execution_count": null,
   "metadata": {
    "collapsed": true
   },
   "outputs": [],
   "source": [
    "def F(n):\n",
    "    if n == 0: return 0\n",
    "    elif n == 1: return 1\n",
    "    else: return F(n-1)+F(n-2)"
   ]
  },
  {
   "cell_type": "code",
   "execution_count": null,
   "metadata": {
    "collapsed": true
   },
   "outputs": [],
   "source": [
    "a=int(input(\"Enter the first number of the series \"))\n",
    "b=int(input(\"Enter the second number of the series \"))\n",
    "n=int(input(\"Enter the number of terms needed \"))\n",
    "print(a,b)\n",
    "while(n-2):\n",
    "    c=a+b\n",
    "    a=b\n",
    "    b=c\n",
    "    print c\n",
    "    n=n-1"
   ]
  },
  {
   "cell_type": "code",
   "execution_count": null,
   "metadata": {
    "collapsed": true
   },
   "outputs": [],
   "source": [
    "# Python program to display the Fibonacci sequence up to n-th term using recursive functions\n",
    "\n",
    "def recur_fibo(n):\n",
    "   \"\"\"Recursive function to print Fibonacci sequence\"\"\"\n",
    "   if n <= 1:\n",
    "       return n\n",
    "   else:\n",
    "       return(recur_fibo(n-1) + recur_fibo(n-2))\n",
    "\n",
    "# Change this value for a different result\n",
    "nterms = 10\n",
    "\n",
    "# uncomment to take input from the user\n",
    "#nterms = int(input(\"How many terms? \"))\n",
    "\n",
    "# check if the number of terms is valid\n",
    "if nterms <= 0:\n",
    "   print(\"Plese enter a positive integer\")\n",
    "else:\n",
    "   print(\"Fibonacci sequence:\")\n",
    "   for i in range(nterms):\n",
    "       print(recur_fibo(i))"
   ]
  },
  {
   "cell_type": "markdown",
   "metadata": {},
   "source": [
    "### Factorial"
   ]
  },
  {
   "cell_type": "code",
   "execution_count": 30,
   "metadata": {},
   "outputs": [
    {
     "name": "stdout",
     "output_type": "stream",
     "text": [
      "6\n",
      "720\n"
     ]
    }
   ],
   "source": [
    "#factorial for a given number\n",
    "f= input()\n",
    "fact = 1\n",
    "if f == 0 and f == 1 :\n",
    "    print 1\n",
    "else:\n",
    "    for i in range(f,1,-1):\n",
    "        fact= fact*i\n",
    "print fact"
   ]
  },
  {
   "cell_type": "code",
   "execution_count": 40,
   "metadata": {},
   "outputs": [
    {
     "name": "stdout",
     "output_type": "stream",
     "text": [
      "1\n"
     ]
    }
   ],
   "source": [
    "def fact(n):\n",
    "    if (n==0):\n",
    "        return 1\n",
    "    if(n==1):\n",
    "        return n\n",
    "    else:\n",
    "        return n * fact(n-1)\n",
    "print fact(0)"
   ]
  },
  {
   "cell_type": "code",
   "execution_count": 45,
   "metadata": {},
   "outputs": [
    {
     "name": "stdout",
     "output_type": "stream",
     "text": [
      "55\n"
     ]
    }
   ],
   "source": [
    "def sum(n):\n",
    "    return n*(n+1)/2\n",
    "print sum(10)"
   ]
  },
  {
   "cell_type": "markdown",
   "metadata": {},
   "source": [
    "### Prime Numbers"
   ]
  },
  {
   "cell_type": "code",
   "execution_count": 16,
   "metadata": {},
   "outputs": [
    {
     "name": "stdout",
     "output_type": "stream",
     "text": [
      "143\n",
      "NP\n"
     ]
    }
   ],
   "source": [
    "#check if number is prime\n",
    "p= input()\n",
    "flag = False\n",
    "for i in range(2,p):\n",
    "    if (p%i == 0):\n",
    "        flag = False\n",
    "        break\n",
    "    else:\n",
    "        flag = True\n",
    "if (flag == True):\n",
    "    print \"P\"\n",
    "else:\n",
    "    print \"NP\""
   ]
  },
  {
   "cell_type": "code",
   "execution_count": 55,
   "metadata": {},
   "outputs": [
    {
     "name": "stdout",
     "output_type": "stream",
     "text": [
      "100\n",
      "2\n",
      "4\n",
      "5\n",
      "10\n",
      "20\n",
      "25\n",
      "50\n"
     ]
    }
   ],
   "source": [
    "#print prime numbers upto given range\n",
    "p= input()\n",
    "flag = False\n",
    "for i in range(2,p):\n",
    "    if (p%i == 0):\n",
    "        flag = False\n",
    "        print i"
   ]
  },
  {
   "cell_type": "code",
   "execution_count": null,
   "metadata": {
    "collapsed": true
   },
   "outputs": [],
   "source": []
  }
 ],
 "metadata": {
  "kernelspec": {
   "display_name": "Python 2",
   "language": "python",
   "name": "python2"
  },
  "language_info": {
   "codemirror_mode": {
    "name": "ipython",
    "version": 2
   },
   "file_extension": ".py",
   "mimetype": "text/x-python",
   "name": "python",
   "nbconvert_exporter": "python",
   "pygments_lexer": "ipython2",
   "version": "2.7.13"
  }
 },
 "nbformat": 4,
 "nbformat_minor": 2
}
